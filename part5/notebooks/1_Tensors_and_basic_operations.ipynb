{
 "cells": [
  {
   "cell_type": "code",
   "execution_count": 1,
   "metadata": {},
   "outputs": [],
   "source": [
    "%load_ext autoreload\n",
    "%autoreload 2\n",
    "%matplotlib inline"
   ]
  },
  {
   "cell_type": "code",
   "execution_count": 2,
   "metadata": {},
   "outputs": [],
   "source": [
    "import numpy as np\n",
    "import matplotlib.pyplot as plt\n",
    "from hottbox.core import Tensor"
   ]
  },
  {
   "cell_type": "markdown",
   "metadata": {
    "toc-hr-collapsed": false
   },
   "source": [
    "[Return to Table of Contents](./0_Table_of_contents.ipynb)"
   ]
  },
  {
   "cell_type": "markdown",
   "metadata": {
    "toc-hr-collapsed": false
   },
   "source": [
    "# Tensors and basic operations"
   ]
  },
  {
   "cell_type": "markdown",
   "metadata": {
    "toc-hr-collapsed": true
   },
   "source": [
    "<img src=\"./imgs/tensors_dogs.jpg\" alt=\"Drawing\" style=\"width: 500px;\"/>\n",
    "\n",
    "A tensor is a multi-dimenaional array of data where each dimension is conventionally referred to as the **mode**. Tensor order is defined by the number of its modes which is equivivalent to the number of indices required to identify a particular entry of a multi-dimensional array. For ease of visualisation and compact notation, we consider a third order tensor $\\mathbf{\\underline{X}} \\in \\mathbb{R}^{I \\times J \\times K}$. Thus, an element of such a tensor, $\\mathbf{\\underline{X}} \\in \\mathbb{R}^{I \\times J \\times K}$, can be written in a general form as:\n",
    "\n",
    "$$ x_{ijk} = \\mathbf{\\underline{X}}[i, j, k]$$\n",
    "\n",
    "> **Note:** In order to be consistent with Python indexing, count of modes and elements within starts from zeros.\n",
    "\n",
    "Creation of a tensor starts with a formation of a multidimensional array of data."
   ]
  },
  {
   "cell_type": "code",
   "execution_count": 62,
   "metadata": {},
   "outputs": [
    {
     "name": "stdout",
     "output_type": "stream",
     "text": [
      "This tensor is of order 3 and consists of 24 elements.\n",
      "Sizes and names of its modes are (2, 3, 4) and ['mode-0', 'mode-1', 'mode-2'] respectively.\n"
     ]
    },
    {
     "data": {
      "text/plain": [
       "array([[[ 0,  1,  2,  3],\n",
       "        [ 4,  5,  6,  7],\n",
       "        [ 8,  9, 10, 11]],\n",
       "\n",
       "       [[12, 13, 14, 15],\n",
       "        [16, 17, 18, 19],\n",
       "        [20, 21, 22, 23]]])"
      ]
     },
     "execution_count": 62,
     "metadata": {},
     "output_type": "execute_result"
    }
   ],
   "source": [
    "# Create 3-d array of data\n",
    "array_3d = np.arange(24).reshape((2, 3, 4))\n",
    "\n",
    "# Create tensor\n",
    "tensor = Tensor(array_3d)\n",
    "\n",
    "# Result preview\n",
    "print(tensor)\n",
    "tensor.data"
   ]
  },
  {
   "cell_type": "markdown",
   "metadata": {
    "toc-hr-collapsed": true
   },
   "source": [
    "## **Assigment 1**\n",
    "\n",
    "1. Create a tensor of order 5 (of any shape) and with all its values equal to 5. Then, calculate its Frobenious norm. \n",
    "2. Construct several tensors of orders varying from 3 to 20, with the size of each dimension equal to 2. Plot the relation between an order of a tensor and the number of its elements.\n",
    "3. Construct several tensors of order 3 with the size of each dimension varying from 3 to 15. Plot the relation between the size of dimensions of a tensor and the number of its elements.\n",
    "4. Analyse and compare the so obtained graphs."
   ]
  },
  {
   "cell_type": "markdown",
   "metadata": {},
   "source": [
    "### Solution: Part 1"
   ]
  },
  {
   "cell_type": "code",
   "execution_count": 32,
   "metadata": {},
   "outputs": [
    {
     "name": "stdout",
     "output_type": "stream",
     "text": [
      "This tensor is of order 5 and consists of 32 elements.\n",
      "Sizes and names of its modes are (2, 2, 2, 2, 2) and ['mode-0', 'mode-1', 'mode-2', 'mode-3', 'mode-4'] respectively.\n"
     ]
    },
    {
     "data": {
      "text/plain": [
       "array([[[[[5, 5],\n",
       "          [5, 5]],\n",
       "\n",
       "         [[5, 5],\n",
       "          [5, 5]]],\n",
       "\n",
       "\n",
       "        [[[5, 5],\n",
       "          [5, 5]],\n",
       "\n",
       "         [[5, 5],\n",
       "          [5, 5]]]],\n",
       "\n",
       "\n",
       "\n",
       "       [[[[5, 5],\n",
       "          [5, 5]],\n",
       "\n",
       "         [[5, 5],\n",
       "          [5, 5]]],\n",
       "\n",
       "\n",
       "        [[[5, 5],\n",
       "          [5, 5]],\n",
       "\n",
       "         [[5, 5],\n",
       "          [5, 5]]]]])"
      ]
     },
     "execution_count": 32,
     "metadata": {},
     "output_type": "execute_result"
    }
   ],
   "source": [
    "# Create 3-d array of 5\n",
    "array_5 = np.asarray([5] *32)\n",
    "\n",
    "array_5d = array_5.reshape((2, 2, 2, 2, 2))\n",
    "tensor_5d = Tensor(array_5d)\n",
    "print(tensor_5d)\n",
    "array_5d"
   ]
  },
  {
   "cell_type": "code",
   "execution_count": 35,
   "metadata": {},
   "outputs": [
    {
     "data": {
      "text/plain": [
       "28.284271247461902"
      ]
     },
     "execution_count": 35,
     "metadata": {},
     "output_type": "execute_result"
    }
   ],
   "source": [
    "# Calculate Frobenious norm\n",
    "tensor_5d.frob_norm"
   ]
  },
  {
   "cell_type": "markdown",
   "metadata": {},
   "source": [
    "### Solution: Part 2"
   ]
  },
  {
   "cell_type": "code",
   "execution_count": 60,
   "metadata": {},
   "outputs": [
    {
     "data": {
      "image/png": "[encoded data removed]",
      "text/plain": [
       "<Figure size 432x288 with 1 Axes>"
      ]
     },
     "metadata": {
      "needs_background": "light"
     },
     "output_type": "display_data"
    }
   ],
   "source": [
    "# Create tensors and collect information\n",
    "tensor_size_list = []\n",
    "for x in range (3,21):\n",
    "    temp_array = np.asarray(([1] * (2**x)))\n",
    "    temp_tuple = tuple([2] * x)\n",
    "    temp_tensor = Tensor(temp_array.reshape(temp_tuple))\n",
    "    \n",
    "    tensor_size_list.append(temp_tensor.size)\n",
    "\n",
    "    \n",
    "# Plot results    \n",
    "plt.figure(figsize = (6,4))\n",
    "plt.plot(np.arange(3,21), tensor_size_list)\n",
    "plt.grid()\n",
    "plt.ylabel(\"Number of Elements\")\n",
    "plt.xlabel(\"Order of Tensor\")\n",
    "plt.title(\"Number of Elements vs Order of Tensor\")\n",
    "\n",
    "plt.savefig(\"images//order_elements\")\n",
    "plt.show()"
   ]
  },
  {
   "cell_type": "markdown",
   "metadata": {},
   "source": [
    "### Solution: Part 3"
   ]
  },
  {
   "cell_type": "code",
   "execution_count": 61,
   "metadata": {},
   "outputs": [
    {
     "data": {
      "image/png": "[encoded data removed]",
      "text/plain": [
       "<Figure size 432x288 with 1 Axes>"
      ]
     },
     "metadata": {
      "needs_background": "light"
     },
     "output_type": "display_data"
    }
   ],
   "source": [
    "# Create tensors and collect information\n",
    "tensor_size_list = []\n",
    "\n",
    "for x in range (3,16):\n",
    "    temp_array = np.asarray(([1] * (x**3)))\n",
    "    temp_tuple = tuple([x] * 3)\n",
    "    temp_tensor = Tensor(temp_array.reshape(temp_tuple))\n",
    "    \n",
    "    tensor_size_list.append(temp_tensor.size)\n",
    "\n",
    "    \n",
    "# Plot results    \n",
    "plt.figure(figsize = (6,4))\n",
    "plt.plot(np.arange(3,16), tensor_size_list)\n",
    "plt.grid()\n",
    "plt.ylabel(\"Number of Elements\")\n",
    "plt.xlabel(\"Size of Each Dimension\")\n",
    "plt.title(\"Number of Elements vs Size of Each Dimension\")\n",
    "\n",
    "plt.savefig(\"images//size_elements\")\n",
    "plt.show()"
   ]
  },
  {
   "cell_type": "markdown",
   "metadata": {},
   "source": [
    "### Solution: Part 4"
   ]
  },
  {
   "cell_type": "markdown",
   "metadata": {},
   "source": [
    "**Include comparison and analysis here**\n",
    "\n"
   ]
  },
  {
   "cell_type": "markdown",
   "metadata": {
    "toc-hr-collapsed": false
   },
   "source": [
    "# Most common tensor substructures\n",
    "<img src=\"./imgs/tensor_substructures.png\" alt=\"Drawing\" style=\"width: 500px;\"/>\n",
    "\n",
    "1. A **fiber** is a vector obtained by fixing all but one of the indices, e.g.  $\\mathbf{\\underline{X}}[i,:,k]$ is the mode-2 fiber $\\mathbf{\\underline{X}}$ (usually refered to as row fiber). \n",
    "\n",
    "1. Fixing all but two of the indices yields a matrix called a **slice** of a tensor, e.g. $\\mathbf{\\underline{X}}[:,:,k]$ is the mode-[1,2] slice (usually refered to as the frontal slice).\n",
    "\n",
    "**Note:** The same principles and definitions can be applied to a tensor of an arbitrarily large order. In addition, you can obtain a **subtensor** by fixing at least three indices and letting the remaining ones vary."
   ]
  },
  {
   "cell_type": "code",
   "execution_count": 63,
   "metadata": {},
   "outputs": [
    {
     "data": {
      "text/plain": [
       "array([4, 5, 6, 7])"
      ]
     },
     "execution_count": 63,
     "metadata": {},
     "output_type": "execute_result"
    }
   ],
   "source": [
    "# Mode-2 fiber\n",
    "tensor.data[0,1,:]"
   ]
  },
  {
   "cell_type": "code",
   "execution_count": 64,
   "metadata": {},
   "outputs": [
    {
     "data": {
      "text/plain": [
       "array([[ 0,  1,  2,  3],\n",
       "       [ 4,  5,  6,  7],\n",
       "       [ 8,  9, 10, 11]])"
      ]
     },
     "execution_count": 64,
     "metadata": {},
     "output_type": "execute_result"
    }
   ],
   "source": [
    "# Frontal slice\n",
    "tensor.data[0,:,:]"
   ]
  },
  {
   "cell_type": "markdown",
   "metadata": {
    "toc-hr-collapsed": true
   },
   "source": [
    "## **Assigment 2**\n",
    "\n",
    "1. Create a tensor of order 4 which consists of 81 elements and display all its horizontal slices and any five row fibers.\n",
    "2. Create a tensor of order 3 and shape `(4,2,5)`, where the values of each consequent frontal slice are doubled."
   ]
  },
  {
   "cell_type": "markdown",
   "metadata": {},
   "source": [
    "### Solution: Part 1"
   ]
  },
  {
   "cell_type": "code",
   "execution_count": 69,
   "metadata": {},
   "outputs": [
    {
     "name": "stdout",
     "output_type": "stream",
     "text": [
      "This tensor is of order 4 and consists of 81 elements.\n",
      "Sizes and names of its modes are (3, 3, 3, 3) and ['mode-0', 'mode-1', 'mode-2', 'mode-3'] respectively.\n"
     ]
    },
    {
     "data": {
      "text/plain": [
       "array([[[[ 0,  1,  2],\n",
       "         [ 3,  4,  5],\n",
       "         [ 6,  7,  8]],\n",
       "\n",
       "        [[ 9, 10, 11],\n",
       "         [12, 13, 14],\n",
       "         [15, 16, 17]],\n",
       "\n",
       "        [[18, 19, 20],\n",
       "         [21, 22, 23],\n",
       "         [24, 25, 26]]],\n",
       "\n",
       "\n",
       "       [[[27, 28, 29],\n",
       "         [30, 31, 32],\n",
       "         [33, 34, 35]],\n",
       "\n",
       "        [[36, 37, 38],\n",
       "         [39, 40, 41],\n",
       "         [42, 43, 44]],\n",
       "\n",
       "        [[45, 46, 47],\n",
       "         [48, 49, 50],\n",
       "         [51, 52, 53]]],\n",
       "\n",
       "\n",
       "       [[[54, 55, 56],\n",
       "         [57, 58, 59],\n",
       "         [60, 61, 62]],\n",
       "\n",
       "        [[63, 64, 65],\n",
       "         [66, 67, 68],\n",
       "         [69, 70, 71]],\n",
       "\n",
       "        [[72, 73, 74],\n",
       "         [75, 76, 77],\n",
       "         [78, 79, 80]]]])"
      ]
     },
     "execution_count": 69,
     "metadata": {},
     "output_type": "execute_result"
    }
   ],
   "source": [
    "# Create a tensor of order 4\n",
    "array_4d = np.arange(81).reshape((3, 3, 3, 3))\n",
    "\n",
    "# Create tensor\n",
    "tensor = Tensor(array_4d)\n",
    "\n",
    "# Result preview\n",
    "print(tensor)\n",
    "tensor.data"
   ]
  },
  {
   "cell_type": "code",
   "execution_count": 90,
   "metadata": {},
   "outputs": [
    {
     "name": "stdout",
     "output_type": "stream",
     "text": [
      "slice  (0, 0)  : \n",
      " [[0 1 2]\n",
      " [3 4 5]\n",
      " [6 7 8]] \n",
      "\n",
      "slice  (0, 1)  : \n",
      " [[ 9 10 11]\n",
      " [12 13 14]\n",
      " [15 16 17]] \n",
      "\n",
      "slice  (0, 2)  : \n",
      " [[18 19 20]\n",
      " [21 22 23]\n",
      " [24 25 26]] \n",
      "\n",
      "slice  (1, 0)  : \n",
      " [[27 28 29]\n",
      " [30 31 32]\n",
      " [33 34 35]] \n",
      "\n",
      "slice  (1, 1)  : \n",
      " [[36 37 38]\n",
      " [39 40 41]\n",
      " [42 43 44]] \n",
      "\n",
      "slice  (1, 2)  : \n",
      " [[45 46 47]\n",
      " [48 49 50]\n",
      " [51 52 53]] \n",
      "\n",
      "slice  (2, 0)  : \n",
      " [[54 55 56]\n",
      " [57 58 59]\n",
      " [60 61 62]] \n",
      "\n",
      "slice  (2, 1)  : \n",
      " [[63 64 65]\n",
      " [66 67 68]\n",
      " [69 70 71]] \n",
      "\n",
      "slice  (2, 2)  : \n",
      " [[72 73 74]\n",
      " [75 76 77]\n",
      " [78 79 80]] \n",
      "\n"
     ]
    }
   ],
   "source": [
    "# Display slices\n",
    "for x in range (0,3):\n",
    "    for y in range (0,3):\n",
    "        print(\"slice \", str((x,y)),\" : \\n\",tensor.data[x,y,:,:], \"\\n\")"
   ]
  },
  {
   "cell_type": "code",
   "execution_count": 91,
   "metadata": {},
   "outputs": [
    {
     "name": "stdout",
     "output_type": "stream",
     "text": [
      "row fibre  (0, 0, 2)  : \n",
      " [ 2 11 20] \n",
      "\n",
      "row fibre  (1, 0, 0)  : \n",
      " [27 36 45] \n",
      "\n",
      "row fibre  (1, 2, 0)  : \n",
      " [33 42 51] \n",
      "\n",
      "row fibre  (0, 1, 2)  : \n",
      " [ 5 14 23] \n",
      "\n"
     ]
    }
   ],
   "source": [
    "# Display fibers\n",
    "for x in range (0,4):\n",
    "    rand1 = np.random.randint(low=0, high=3)\n",
    "    rand2 = np.random.randint(low=0, high=3)\n",
    "    rand3 = np.random.randint(low=0, high=3)\n",
    "    print(\"row fibre \", str((rand1, rand2, rand3)),\" : \\n\",tensor.data[rand1,:,rand2,rand3], \"\\n\")"
   ]
  },
  {
   "cell_type": "markdown",
   "metadata": {},
   "source": [
    "### Solution: Part 2"
   ]
  },
  {
   "cell_type": "code",
   "execution_count": 110,
   "metadata": {},
   "outputs": [
    {
     "name": "stdout",
     "output_type": "stream",
     "text": [
      "[[1 1]\n",
      " [1 1]\n",
      " [1 1]\n",
      " [1 1]] \n",
      "\n",
      "[[2 2]\n",
      " [2 2]\n",
      " [2 2]\n",
      " [2 2]] \n",
      "\n",
      "[[4 4]\n",
      " [4 4]\n",
      " [4 4]\n",
      " [4 4]] \n",
      "\n",
      "[[8 8]\n",
      " [8 8]\n",
      " [8 8]\n",
      " [8 8]] \n",
      "\n",
      "[[16 16]\n",
      " [16 16]\n",
      " [16 16]\n",
      " [16 16]] \n",
      "\n"
     ]
    }
   ],
   "source": [
    "# Create a tensor of order 3\n",
    "      \n",
    "array_3d = np.asarray([1] * (4*2*5))\n",
    "array_3d = array_3d.reshape((4,2,5))\n",
    "\n",
    "temp_value = 1\n",
    "for x in range (0,5):\n",
    "    \n",
    "    temp_slice = np.asarray([temp_value] * (4*2)).reshape((4,2))\n",
    "    array_3d[:,:,x] = temp_slice\n",
    "    temp_value *= 2\n",
    "    \n",
    "#print each slice:\n",
    "for x in range(0,5):\n",
    "    print(array_3d[:,:,x], \"\\n\")"
   ]
  },
  {
   "cell_type": "markdown",
   "metadata": {
    "toc-hr-collapsed": false
   },
   "source": [
    "# Unfolding\n",
    "\n",
    "Conventionally, unfolding is considered to be a process of element mapping from a tensor to a matrix. In other words, it arranges the mode-$n$ fibers of a tensor to be the matrix columns. Thus, the mode-$n$ unfolding is denoted as:\n",
    "\n",
    "$$\\mathbf{\\underline{A}} \\xrightarrow{n} \\mathbf{A}_{(n)}$$\n",
    "\n",
    "Thus, this operations requires to specify a mode along which a tensor will be unfolded. For a third order tensor, a visual representation of such operation is as following\n",
    "\n",
    "<img src=\"./imgs/unfolding.png\" alt=\"Drawing\" style=\"width: 600px;\"/>\n",
    "\n",
    "In `hottbox` this functionality is available through the corresponding methods of the `Tensor` object, for instance:"
   ]
  },
  {
   "cell_type": "code",
   "execution_count": 16,
   "metadata": {},
   "outputs": [
    {
     "name": "stdout",
     "output_type": "stream",
     "text": [
      "This tensor is of order 2 and consists of 24 elements.\n",
      "Sizes and names of its modes are (2, 12) and ['mode-0', 'mode-1_mode-2'] respectively.\n"
     ]
    },
    {
     "data": {
      "text/plain": [
       "array([[ 0,  1,  2,  3,  4,  5,  6,  7,  8,  9, 10, 11],\n",
       "       [12, 13, 14, 15, 16, 17, 18, 19, 20, 21, 22, 23]])"
      ]
     },
     "execution_count": 16,
     "metadata": {},
     "output_type": "execute_result"
    }
   ],
   "source": [
    "# Create 3-d array of data\n",
    "array_3d = np.arange(24).reshape((2, 3, 4))\n",
    "\n",
    "# Create tensor\n",
    "tensor = Tensor(array_3d)\n",
    "\n",
    "# Unfolding of a tensor\n",
    "tensor.unfold(mode=0)\n",
    "\n",
    "# Result preview\n",
    "print(tensor)\n",
    "tensor.data"
   ]
  },
  {
   "cell_type": "markdown",
   "metadata": {
    "toc-hr-collapsed": true
   },
   "source": [
    "## **Assigment 3**\n",
    "\n",
    "1. Create a tensor, $\\mathbf{\\underline{A}}$, of order 4, in such a way that its version unfolded along the second mode would have sizes `(5,72)`, that is $\\mathbf{A}_{(n)} \\in  \\mathbb{R}^{5 \\times 72}$. Validate your results by displaying the unfolded tensor."
   ]
  },
  {
   "cell_type": "markdown",
   "metadata": {},
   "source": [
    "### Solution : Part 1"
   ]
  },
  {
   "cell_type": "code",
   "execution_count": 137,
   "metadata": {},
   "outputs": [
    {
     "data": {
      "text/plain": [
       "(5, 72)"
      ]
     },
     "execution_count": 137,
     "metadata": {},
     "output_type": "execute_result"
    }
   ],
   "source": [
    "# Create a tensor\n",
    "array_4d = np.arange(6*5*3*4).reshape((6,5,3,4))\n",
    "tensor_4d = Tensor(array_4d)\n",
    "tensor_4d.unfold(mode=1).data[:].shape"
   ]
  },
  {
   "cell_type": "code",
   "execution_count": 138,
   "metadata": {},
   "outputs": [
    {
     "data": {
      "text/plain": [
       "array([[  0,   1,   2,   3,   4,   5,   6,   7,   8,   9,  10,  11,  60,\n",
       "         61,  62,  63,  64,  65,  66,  67,  68,  69,  70,  71, 120, 121,\n",
       "        122, 123, 124, 125, 126, 127, 128, 129, 130, 131, 180, 181, 182,\n",
       "        183, 184, 185, 186, 187, 188, 189, 190, 191, 240, 241, 242, 243,\n",
       "        244, 245, 246, 247, 248, 249, 250, 251, 300, 301, 302, 303, 304,\n",
       "        305, 306, 307, 308, 309, 310, 311],\n",
       "       [ 12,  13,  14,  15,  16,  17,  18,  19,  20,  21,  22,  23,  72,\n",
       "         73,  74,  75,  76,  77,  78,  79,  80,  81,  82,  83, 132, 133,\n",
       "        134, 135, 136, 137, 138, 139, 140, 141, 142, 143, 192, 193, 194,\n",
       "        195, 196, 197, 198, 199, 200, 201, 202, 203, 252, 253, 254, 255,\n",
       "        256, 257, 258, 259, 260, 261, 262, 263, 312, 313, 314, 315, 316,\n",
       "        317, 318, 319, 320, 321, 322, 323],\n",
       "       [ 24,  25,  26,  27,  28,  29,  30,  31,  32,  33,  34,  35,  84,\n",
       "         85,  86,  87,  88,  89,  90,  91,  92,  93,  94,  95, 144, 145,\n",
       "        146, 147, 148, 149, 150, 151, 152, 153, 154, 155, 204, 205, 206,\n",
       "        207, 208, 209, 210, 211, 212, 213, 214, 215, 264, 265, 266, 267,\n",
       "        268, 269, 270, 271, 272, 273, 274, 275, 324, 325, 326, 327, 328,\n",
       "        329, 330, 331, 332, 333, 334, 335],\n",
       "       [ 36,  37,  38,  39,  40,  41,  42,  43,  44,  45,  46,  47,  96,\n",
       "         97,  98,  99, 100, 101, 102, 103, 104, 105, 106, 107, 156, 157,\n",
       "        158, 159, 160, 161, 162, 163, 164, 165, 166, 167, 216, 217, 218,\n",
       "        219, 220, 221, 222, 223, 224, 225, 226, 227, 276, 277, 278, 279,\n",
       "        280, 281, 282, 283, 284, 285, 286, 287, 336, 337, 338, 339, 340,\n",
       "        341, 342, 343, 344, 345, 346, 347],\n",
       "       [ 48,  49,  50,  51,  52,  53,  54,  55,  56,  57,  58,  59, 108,\n",
       "        109, 110, 111, 112, 113, 114, 115, 116, 117, 118, 119, 168, 169,\n",
       "        170, 171, 172, 173, 174, 175, 176, 177, 178, 179, 228, 229, 230,\n",
       "        231, 232, 233, 234, 235, 236, 237, 238, 239, 288, 289, 290, 291,\n",
       "        292, 293, 294, 295, 296, 297, 298, 299, 348, 349, 350, 351, 352,\n",
       "        353, 354, 355, 356, 357, 358, 359]])"
      ]
     },
     "execution_count": 138,
     "metadata": {},
     "output_type": "execute_result"
    }
   ],
   "source": [
    "# Display unfolded version\n",
    "tensor_4d.data"
   ]
  },
  {
   "cell_type": "markdown",
   "metadata": {
    "toc-hr-collapsed": false
   },
   "source": [
    "# Mode-n product \n",
    "<img src=\"./imgs/mode_n_product.png\" alt=\"Drawing\" style=\"width: 600px;\"/>\n",
    "\n",
    "The mode-$n$ product is a multiplication of a tensor  by a matrix along the $n^{th}$ mode of a tensor. This essentially means that each mode-$n$ fiber should be multiplied by this matrix. Mathematically, this can be expressed as:\n",
    "\n",
    "$$\\mathbf{\\underline{X}} \\times_n \\mathbf{A} = \\mathbf{\\underline{Y}} \\quad \\Leftrightarrow  \\quad \\mathbf{Y}_{(n)} = \\mathbf{A} \\mathbf{X}_{(n)}  $$"
   ]
  },
  {
   "cell_type": "code",
   "execution_count": 146,
   "metadata": {},
   "outputs": [
    {
     "name": "stdout",
     "output_type": "stream",
     "text": [
      "Shape A:  (5, 3)\n",
      "Shape X:  (2, 3, 4)\n",
      "Shape X Mode 1:  (3, 8)\n",
      "Shape Y:  (2, 5, 4)\n",
      "This tensor is of order 3 and consists of 40 elements.\n",
      "Sizes and names of its modes are (2, 5, 4) and ['mode-0', 'mode-1', 'mode-2'] respectively.\n"
     ]
    },
    {
     "data": {
      "text/plain": [
       "array([[ 20,  23,  26,  29,  56,  59,  62,  65],\n",
       "       [ 56,  68,  80,  92, 200, 212, 224, 236],\n",
       "       [ 92, 113, 134, 155, 344, 365, 386, 407],\n",
       "       [128, 158, 188, 218, 488, 518, 548, 578],\n",
       "       [164, 203, 242, 281, 632, 671, 710, 749]])"
      ]
     },
     "execution_count": 146,
     "metadata": {},
     "output_type": "execute_result"
    }
   ],
   "source": [
    "I, J, K = 2, 3, 4\n",
    "J_new = 5\n",
    "\n",
    "# Create tensor\n",
    "array_3d = np.arange(I * J * K).reshape(I, J ,K)\n",
    "X = Tensor(array_3d)\n",
    "\n",
    "# Create matrix\n",
    "A = np.arange(J_new * J).reshape(J_new, J)\n",
    "print(\"Shape A: \", A.shape)\n",
    "print(\"Shape X: \", X.shape)\n",
    "print(\"Shape X Mode 1: \", X.unfold(mode=1, inplace = False).shape)\n",
    "\n",
    "# Performs Mode-n product \n",
    "Y = X.mode_n_product(A, mode=1, inplace=False)\n",
    "\n",
    "print(\"Shape Y: \", Y.shape)\n",
    "\n",
    "# Preview of resulting tensor\n",
    "print(Y)\n",
    "\n",
    "# Preview of its unfolded version\n",
    "Y.unfold(mode=1, inplace=False).data"
   ]
  },
  {
   "cell_type": "markdown",
   "metadata": {
    "toc-hr-collapsed": true
   },
   "source": [
    "## **Assignment 4**\n",
    "\n",
    "1. Perform the mode-$n$ product of a 3-rd order tensor, $\\mathbf{\\underline{X}}$, with a matrix, $\\mathbf{A} \\in  \\mathbb{R}^{5 \\times 4}$, provided that the resulting tensor, $\\mathbf{\\underline{Y}}$, consists of `100` elements. Validate your results. \n",
    "\n",
    "> **Note:** You are encouraged to experiment with the optional parameter `inplace` and to investigate its effect on the result."
   ]
  },
  {
   "cell_type": "markdown",
   "metadata": {},
   "source": [
    "### Solution: Part 1"
   ]
  },
  {
   "cell_type": "code",
   "execution_count": 150,
   "metadata": {},
   "outputs": [],
   "source": [
    "# Create original tensor \n",
    "\n",
    "I, J, K = 4, 4, 5\n",
    "J_new = 5\n",
    "\n",
    "# Create tensor\n",
    "array_3d = np.arange(I * J * K).reshape(I, J ,K)\n",
    "X = Tensor(array_3d)"
   ]
  },
  {
   "cell_type": "code",
   "execution_count": 151,
   "metadata": {},
   "outputs": [],
   "source": [
    "# Create matrix\n",
    "A = np.arange(J_new * J).reshape(J_new, J)"
   ]
  },
  {
   "cell_type": "code",
   "execution_count": 154,
   "metadata": {},
   "outputs": [
    {
     "name": "stdout",
     "output_type": "stream",
     "text": [
      "Shape Y:  (4, 5, 5)\n",
      "This tensor is of order 3 and consists of 100 elements.\n",
      "Sizes and names of its modes are (4, 5, 5) and ['mode-0', 'mode-1', 'mode-2'] respectively.\n"
     ]
    }
   ],
   "source": [
    "# Perform mode-n product \n",
    "Y = X.mode_n_product(A, mode=1, inplace=False)\n",
    "print(\"Shape Y: \", Y.shape)\n",
    "\n",
    "# Preview of resulting tensor\n",
    "print(Y)"
   ]
  },
  {
   "cell_type": "code",
   "execution_count": 153,
   "metadata": {},
   "outputs": [
    {
     "name": "stdout",
     "output_type": "stream",
     "text": [
      "Shape Y:  (4, 5, 5)\n",
      "This tensor is of order 3 and consists of 100 elements.\n",
      "Sizes and names of its modes are (4, 5, 5) and ['mode-0', 'mode-1', 'mode-2'] respectively.\n"
     ]
    }
   ],
   "source": [
    "# Validate equivalence between the left and right hand side\n"
   ]
  },
  {
   "cell_type": "markdown",
   "metadata": {},
   "source": [
    "# Properties of mode-n product\n",
    "\n",
    "1. For distinct modes in a series of multiplications, the order of the multiplication is irrelevent: \n",
    "\n",
    "    $$\\mathbf{\\underline{X}} \\times_n \\mathbf{A} \\times_m \\mathbf{B} = \\mathbf{\\underline{X}} \\times_m \\mathbf{B} \\times_n \\mathbf{A} \\quad (m \\neq n)$$\n",
    "\n",
    "1. However, this does not hold if the modes are the same :\n",
    "\n",
    "    $$\\mathbf{\\underline{X}} \\times_n \\mathbf{A} \\times_n \\mathbf{B} = \\mathbf{\\underline{X}} \\times_n (\\mathbf{B}\\mathbf{A})$$"
   ]
  },
  {
   "cell_type": "markdown",
   "metadata": {
    "toc-hr-collapsed": true
   },
   "source": [
    "## **Assignment 5**\n",
    "\n",
    "1. Validate both of the above properties empirically \n",
    "2. Prove the second property analytically\n",
    "\n",
    "> **Note:** Be aware of consequences of the optional parameter `inplace` (its default value is set to `True`)."
   ]
  },
  {
   "cell_type": "markdown",
   "metadata": {},
   "source": [
    "### Solution: Part 1"
   ]
  },
  {
   "cell_type": "code",
   "execution_count": 158,
   "metadata": {},
   "outputs": [],
   "source": [
    "# Create tensor\n",
    "I, J, K = 4, 4, 5\n",
    "J_new = 5\n",
    "J_new_new = 6\n",
    "\n",
    "# Create tensor\n",
    "array_3d = np.arange(I * J * K).reshape(I, J ,K)\n",
    "X = Tensor(array_3d)"
   ]
  },
  {
   "cell_type": "code",
   "execution_count": 25,
   "metadata": {},
   "outputs": [],
   "source": [
    "# Create matrices\n",
    "A = np.arange(J_new * J).reshape(J_new, J)\n",
    "A2 = np.arange(J_new_new * J_new).reshape(J_new_new, J_new)"
   ]
  },
  {
   "cell_type": "code",
   "execution_count": 160,
   "metadata": {},
   "outputs": [
    {
     "data": {
      "text/plain": [
       "True"
      ]
     },
     "execution_count": 160,
     "metadata": {},
     "output_type": "execute_result"
    }
   ],
   "source": [
    "# Validate property 1\n",
    "\n",
    "#left side\n",
    "Y = X.mode_n_product(A, mode=1, inplace=False)\n",
    "Y = Y.mode_n_product(A2, mode=2, inplace=False)\n",
    "\n",
    "\n",
    "#right side\n",
    "Y2 = X.mode_n_product(A2, mode=2, inplace=False)\n",
    "Y2 = Y2.mode_n_product(A, mode=1, inplace=False)\n",
    "\n",
    "Y == Y2"
   ]
  },
  {
   "cell_type": "code",
   "execution_count": 176,
   "metadata": {},
   "outputs": [
    {
     "data": {
      "text/plain": [
       "True"
      ]
     },
     "execution_count": 176,
     "metadata": {},
     "output_type": "execute_result"
    }
   ],
   "source": [
    "# Validate property 2\n",
    "\n",
    "#left side\n",
    "Y = X.mode_n_product(A, mode=1, inplace=False)\n",
    "Y = Y.mode_n_product(A2, mode=1, inplace=False)\n",
    "\n",
    "#right side\n",
    "C = np.dot(A2,A)\n",
    "Y2 = X.mode_n_product(C, mode=1, inplace=False)\n",
    "\n",
    "Y == Y2"
   ]
  },
  {
   "cell_type": "markdown",
   "metadata": {
    "toc-hr-collapsed": true
   },
   "source": [
    "### Solution: Part 2\n",
    "\n",
    "Use [LaTeX syntax](https://stackoverflow.com/questions/13208286/how-to-write-latex-in-ipython-notebook) for analytical deriviations for the second property below.\n"
   ]
  },
  {
   "cell_type": "code",
   "execution_count": 84,
   "metadata": {},
   "outputs": [
    {
     "name": "stderr",
     "output_type": "stream",
     "text": [
      "UsageError: %%latex is a cell magic, but the cell body is empty.\n"
     ]
    }
   ],
   "source": [
    "%%latex"
   ]
  },
  {
   "cell_type": "code",
   "execution_count": 87,
   "metadata": {},
   "outputs": [
    {
     "data": {
      "text/plain": [
       "2"
      ]
     },
     "execution_count": 87,
     "metadata": {},
     "output_type": "execute_result"
    }
   ],
   "source": []
  },
  {
   "cell_type": "code",
   "execution_count": null,
   "metadata": {},
   "outputs": [],
   "source": []
  }
 ],
 "metadata": {
  "kernelspec": {
   "display_name": "Python 3",
   "language": "python",
   "name": "python3"
  },
  "language_info": {
   "codemirror_mode": {
    "name": "ipython",
    "version": 3
   },
   "file_extension": ".py",
   "mimetype": "text/x-python",
   "name": "python",
   "nbconvert_exporter": "python",
   "pygments_lexer": "ipython3",
   "version": "3.7.3"
  },
  "toc-autonumbering": false,
  "toc-showcode": false,
  "toc-showmarkdowntxt": false
 },
 "nbformat": 4,
 "nbformat_minor": 2
}
